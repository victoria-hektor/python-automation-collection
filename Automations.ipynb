{
  "nbformat": 4,
  "nbformat_minor": 0,
  "metadata": {
    "colab": {
      "provenance": []
    },
    "kernelspec": {
      "name": "python3",
      "display_name": "Python 3"
    },
    "language_info": {
      "name": "python"
    }
  },
  "cells": [
    {
      "cell_type": "markdown",
      "source": [
        "# 1. Automated Data Cleaning and Preprocessing"
      ],
      "metadata": {
        "id": "y3D3ihaw7Hjt"
      }
    },
    {
      "cell_type": "code",
      "execution_count": 1,
      "metadata": {
        "colab": {
          "base_uri": "https://localhost:8080/"
        },
        "id": "AybUM0fX7Ena",
        "outputId": "84e132bf-f877-4ad4-e091-04c3c0f5dc7a"
      },
      "outputs": [
        {
          "output_type": "stream",
          "name": "stdout",
          "text": [
            "Original Data:\n",
            "    Age    Income  Gender\n",
            "0  25.0   50000.0    Male\n",
            "1   NaN   60000.0  Female\n",
            "2  32.0       NaN  Female\n",
            "3  45.0  120000.0     NaN\n",
            "4   NaN   80000.0    Male\n",
            "\n",
            "Cleaned Data:\n",
            "    Age    Income  Gender\n",
            "0  25.0   50000.0    Male\n",
            "1  34.0   60000.0  Female\n",
            "2  32.0   77500.0  Female\n",
            "3  45.0  120000.0  Female\n",
            "4  34.0   80000.0    Male\n"
          ]
        },
        {
          "output_type": "stream",
          "name": "stderr",
          "text": [
            "<ipython-input-1-a2f5be8b1a67>:17: FutureWarning: A value is trying to be set on a copy of a DataFrame or Series through chained assignment using an inplace method.\n",
            "The behavior will change in pandas 3.0. This inplace method will never work because the intermediate object on which we are setting values always behaves as a copy.\n",
            "\n",
            "For example, when doing 'df[col].method(value, inplace=True)', try using 'df.method({col: value}, inplace=True)' or df[col] = df[col].method(value) instead, to perform the operation inplace on the original object.\n",
            "\n",
            "\n",
            "  df[col].fillna(df[col].mean(), inplace=True)\n",
            "<ipython-input-1-a2f5be8b1a67>:20: FutureWarning: A value is trying to be set on a copy of a DataFrame or Series through chained assignment using an inplace method.\n",
            "The behavior will change in pandas 3.0. This inplace method will never work because the intermediate object on which we are setting values always behaves as a copy.\n",
            "\n",
            "For example, when doing 'df[col].method(value, inplace=True)', try using 'df.method({col: value}, inplace=True)' or df[col] = df[col].method(value) instead, to perform the operation inplace on the original object.\n",
            "\n",
            "\n",
            "  df[col].fillna(df[col].mode()[0], inplace=True)\n"
          ]
        }
      ],
      "source": [
        "import pandas as pd\n",
        "import numpy as np\n",
        "\n",
        "# Example dataset\n",
        "data = {\n",
        "    'Age': [25, np.nan, 32, 45, np.nan],\n",
        "    'Income': [50000, 60000, np.nan, 120000, 80000],\n",
        "    'Gender': ['Male', 'Female', 'Female', np.nan, 'Male']\n",
        "}\n",
        "df = pd.DataFrame(data)\n",
        "\n",
        "# Automation script for data cleaning\n",
        "def automate_data_cleaning(df):\n",
        "    df = df.copy()\n",
        "    # Fill missing numerical values with mean\n",
        "    for col in df.select_dtypes(include='number').columns:\n",
        "        df[col].fillna(df[col].mean(), inplace=True)\n",
        "    # Fill missing categorical values with mode\n",
        "    for col in df.select_dtypes(include='object').columns:\n",
        "        df[col].fillna(df[col].mode()[0], inplace=True)\n",
        "    return df\n",
        "\n",
        "cleaned_df = automate_data_cleaning(df)\n",
        "print(\"Original Data:\")\n",
        "print(df)\n",
        "print(\"\\nCleaned Data:\")\n",
        "print(cleaned_df)"
      ]
    },
    {
      "cell_type": "markdown",
      "source": [
        "# 2. Email Automation\n",
        "\n",
        "## **Use an App Password (Safe Method)**\n",
        "\n",
        "App passwords are a safer way to allow third-party apps access to your Gmail.\n",
        "\n",
        "## **Enable 2-Step Verification:**\n",
        "\n",
        "Go to Google Account Security.\n",
        "\n",
        "Turn on 2-Step Verification.\n",
        "\n",
        "### **Generate an App Password:**\n",
        "\n",
        "Under \"Signing in to Google\", click App Passwords.\n",
        "\n",
        "Select the app (e.g., \"Mail\") and device (e.g., \"Windows Computer\") and generate a password.\n",
        "\n",
        "Use this password in your script instead of your regular Google account password."
      ],
      "metadata": {
        "id": "4fxZHsUE7Q45"
      }
    },
    {
      "cell_type": "code",
      "source": [
        "import smtplib\n",
        "from email.mime.text import MIMEText\n",
        "\n",
        "# Email automation function\n",
        "def send_email(receiver_email, subject, body):\n",
        "    sender_email = \"neuro.divergent.syntax@gmail.com\"\n",
        "    sender_password = \"rlnz wdup lard qafo\"\n",
        "\n",
        "    # Create the email\n",
        "    msg = MIMEText(body)\n",
        "    msg['Subject'] = subject\n",
        "    msg['From'] = sender_email\n",
        "    msg['To'] = receiver_email\n",
        "\n",
        "    # Send the email\n",
        "    with smtplib.SMTP_SSL('smtp.gmail.com', 465) as server:\n",
        "        server.login(sender_email, sender_password)\n",
        "        server.sendmail(sender_email, receiver_email, msg.as_string())\n",
        "        print(f\"Email sent to {receiver_email}\")\n",
        "\n",
        "# Example usage\n",
        "send_email(\"victoria.hektor2012@gmail.com\", \"Automation Test\", \"This is a test email!\")"
      ],
      "metadata": {
        "colab": {
          "base_uri": "https://localhost:8080/"
        },
        "id": "Lnp784An7TaH",
        "outputId": "3c2a8bdf-1dfe-478a-aa6d-d05a7e31b9f1"
      },
      "execution_count": 5,
      "outputs": [
        {
          "output_type": "stream",
          "name": "stdout",
          "text": [
            "Email sent to victoria.hektor2012@gmail.com\n"
          ]
        }
      ]
    },
    {
      "cell_type": "markdown",
      "source": [
        "# 3. Web Scraping"
      ],
      "metadata": {
        "id": "72aNPUF371bI"
      }
    },
    {
      "cell_type": "code",
      "source": [
        "import requests\n",
        "from bs4 import BeautifulSoup\n",
        "\n",
        "# Web scraping function\n",
        "def scrape_title(url):\n",
        "    response = requests.get(url)\n",
        "    soup = BeautifulSoup(response.text, 'html.parser')\n",
        "    title = soup.title.string if soup.title else \"No Title Found\"\n",
        "    return title\n",
        "\n",
        "# Example usage\n",
        "url = \"https://www.python.org\"\n",
        "#url = \"https://www.google.com\"\n",
        "#url = \"https://github.com/victoria-hektor/python-automation-collection\"\n",
        "print(f\"Webpage Title: {scrape_title(url)}\")"
      ],
      "metadata": {
        "colab": {
          "base_uri": "https://localhost:8080/"
        },
        "id": "Qyd9WJb072pQ",
        "outputId": "fc25f280-397e-4266-b0e0-14c6590d827e"
      },
      "execution_count": 12,
      "outputs": [
        {
          "output_type": "stream",
          "name": "stdout",
          "text": [
            "Webpage Title: Welcome to Python.org\n"
          ]
        }
      ]
    },
    {
      "cell_type": "code",
      "source": [
        "# 1. Scrape Headings (H1, H2, etc.) Headings give insight into the structure of a webpage.\n",
        "def scrape_headings(url):\n",
        "    response = requests.get(url)\n",
        "    soup = BeautifulSoup(response.text, 'html.parser')\n",
        "    headings = {f\"h{i}\": [tag.text for tag in soup.find_all(f\"h{i}\")] for i in range(1, 7)}\n",
        "    return headings\n",
        "\n",
        "# Example usage\n",
        "print(scrape_headings(\"https://www.python.org\"))"
      ],
      "metadata": {
        "colab": {
          "base_uri": "https://localhost:8080/"
        },
        "id": "U4hYZF1vFW5e",
        "outputId": "86542d52-6205-4b10-f98b-7efa6f4ab4a5"
      },
      "execution_count": 13,
      "outputs": [
        {
          "output_type": "stream",
          "name": "stdout",
          "text": [
            "{'h1': ['\\n\\n', 'Functions Defined', 'Compound Data Types', 'Intuitive Interpretation', 'All the Flow You’d Expect', 'Quick & Easy to Learn'], 'h2': ['Get Started', 'Download', 'Docs', 'Jobs', 'Latest News', 'Upcoming Events', 'Success Stories', 'Use Python for…', '\\n>>> Python Software Foundation\\n'], 'h3': [], 'h4': [], 'h5': [], 'h6': []}\n"
          ]
        }
      ]
    },
    {
      "cell_type": "code",
      "source": [
        "# 2. Scrape Links Extract all hyperlinks from a webpage.\n",
        "def scrape_links(url):\n",
        "    response = requests.get(url)\n",
        "    soup = BeautifulSoup(response.text, 'html.parser')\n",
        "    links = [a['href'] for a in soup.find_all('a', href=True)]\n",
        "    return links\n",
        "\n",
        "# Example usage\n",
        "print(scrape_links(\"https://www.python.org\"))"
      ],
      "metadata": {
        "colab": {
          "base_uri": "https://localhost:8080/"
        },
        "id": "SOu0osqAFco0",
        "outputId": "7db96daa-1e76-4910-e300-b66bf7d0a978"
      },
      "execution_count": 14,
      "outputs": [
        {
          "output_type": "stream",
          "name": "stdout",
          "text": [
            "['#content', '#python-network', '/', 'https://www.python.org/psf/', 'https://docs.python.org', 'https://pypi.org/', '/jobs/', '/community/', '#top', '/', 'https://psfmember.org/civicrm/contribute/transact?reset=1&id=2', '#site-map', '#', 'javascript:;', 'javascript:;', 'javascript:;', '#', 'https://www.linkedin.com/company/python-software-foundation/', 'https://fosstodon.org/@ThePSF', '/community/irc/', 'https://twitter.com/ThePSF', '/about/', '/about/apps/', '/about/quotes/', '/about/gettingstarted/', '/about/help/', 'http://brochure.getpython.info/', '/downloads/', '/downloads/', '/downloads/source/', '/downloads/windows/', '/downloads/macos/', '/download/other/', 'https://docs.python.org/3/license.html', '/download/alternatives', '/doc/', '/doc/', '/doc/av', 'https://wiki.python.org/moin/BeginnersGuide', 'https://devguide.python.org/', 'https://docs.python.org/faq/', 'http://wiki.python.org/moin/Languages', 'https://peps.python.org', 'https://wiki.python.org/moin/PythonBooks', '/doc/essays/', '/community/', '/community/diversity/', '/community/lists/', '/community/irc/', '/community/forums/', '/psf/annual-report/2021/', '/community/workshops/', '/community/sigs/', '/community/logos/', 'https://wiki.python.org/moin/', '/psf/conduct/', '/community/awards', '/psf/get-involved/', '/psf/community-stories/', '/success-stories/', '/success-stories/category/arts/', '/success-stories/category/business/', '/success-stories/category/education/', '/success-stories/category/engineering/', '/success-stories/category/government/', '/success-stories/category/scientific/', '/success-stories/category/software-development/', '/blogs/', '/blogs/', '/psf/newsletter/', 'http://pyfound.blogspot.com/', 'http://pycon.blogspot.com/', 'http://planetpython.org/', '/events/', '/events/python-events/', '/events/python-user-group/', '/events/python-events/past/', '/events/python-user-group/past/', 'https://wiki.python.org/moin/PythonEventsCalendar#Submitting_an_Event', '/shell/', '//docs.python.org/3/tutorial/controlflow.html#defining-functions', '//docs.python.org/3/tutorial/introduction.html#lists', 'http://docs.python.org/3/tutorial/introduction.html#using-python-as-a-calculator', '//docs.python.org/3/tutorial/controlflow.html', '//docs.python.org/3/tutorial/', '/doc/', 'https://survey.alchemer.com/s3/8009809/python-developers-survey-2024', '/about/gettingstarted/', '/downloads/release/python-3130/', 'https://docs.python.org', '//jobs.python.org', 'https://blog.python.org', 'https://pyfound.blogspot.com/2024/11/psf-grants-program-updates-part2.html', 'https://pyfound.blogspot.com/2024/11/psf-grants-program-updates-part1.html', 'https://pyfound.blogspot.com/2024/11/pycon-us-2025-kicks-off-website-cfp-and.html', 'https://pyfound.blogspot.com/2024/10/announcing-python-software-foundation.html', 'https://pythoninsider.blogspot.com/2024/10/python-3140-alpha-1-is-now-available.html', '/events/calendars/', '/events/python-events/1771/', '/events/python-events/1861/', '/events/python-events/1862/', '/events/python-user-group/1867/', '/events/python-user-group/1870/', '/success-stories/', '/success-stories/deliver-clean-and-safe-code-for-your-python-applications/', '/success-stories/deliver-clean-and-safe-code-for-your-python-applications/', '/about/apps', 'http://www.djangoproject.com/', 'http://www.pylonsproject.org/', 'http://bottlepy.org', 'http://tornadoweb.org', 'http://flask.pocoo.org/', 'http://www.web2py.com/', 'http://wiki.python.org/moin/TkInter', 'https://wiki.gnome.org/Projects/PyGObject', 'http://www.riverbankcomputing.co.uk/software/pyqt/intro', 'https://wiki.qt.io/PySide', 'https://kivy.org/', 'http://www.wxpython.org/', 'https://dearpygui.readthedocs.io/en/latest/', 'http://www.scipy.org', 'http://pandas.pydata.org/', 'http://ipython.org', 'http://buildbot.net/', 'http://trac.edgewall.org/', 'http://roundup.sourceforge.net/', 'http://www.ansible.com', 'https://saltproject.io', 'https://www.openstack.org', 'https://xon.sh', '/psf/', '/psf/', '/users/membership/', '/psf/donations/', '#python-network', '/about/', '/about/apps/', '/about/quotes/', '/about/gettingstarted/', '/about/help/', 'http://brochure.getpython.info/', '/downloads/', '/downloads/', '/downloads/source/', '/downloads/windows/', '/downloads/macos/', '/download/other/', 'https://docs.python.org/3/license.html', '/download/alternatives', '/doc/', '/doc/', '/doc/av', 'https://wiki.python.org/moin/BeginnersGuide', 'https://devguide.python.org/', 'https://docs.python.org/faq/', 'http://wiki.python.org/moin/Languages', 'https://peps.python.org', 'https://wiki.python.org/moin/PythonBooks', '/doc/essays/', '/community/', '/community/diversity/', '/community/lists/', '/community/irc/', '/community/forums/', '/psf/annual-report/2021/', '/community/workshops/', '/community/sigs/', '/community/logos/', 'https://wiki.python.org/moin/', '/psf/conduct/', '/community/awards', '/psf/get-involved/', '/psf/community-stories/', '/success-stories/', '/success-stories/category/arts/', '/success-stories/category/business/', '/success-stories/category/education/', '/success-stories/category/engineering/', '/success-stories/category/government/', '/success-stories/category/scientific/', '/success-stories/category/software-development/', '/blogs/', '/blogs/', '/psf/newsletter/', 'http://pyfound.blogspot.com/', 'http://pycon.blogspot.com/', 'http://planetpython.org/', '/events/', '/events/python-events/', '/events/python-user-group/', '/events/python-events/past/', '/events/python-user-group/past/', 'https://wiki.python.org/moin/PythonEventsCalendar#Submitting_an_Event', '/dev/', 'https://devguide.python.org/', 'https://github.com/python/cpython/issues', 'https://mail.python.org/mailman/listinfo/python-dev', '/dev/core-mentorship/', '/dev/security/', '#python-network', '/about/help/', '/community/diversity/', 'https://github.com/python/pythondotorg/issues', 'https://status.python.org/', '/psf-landing/', '/about/legal/', 'https://policies.python.org/python.org/Privacy-Notice/']\n"
          ]
        }
      ]
    },
    {
      "cell_type": "markdown",
      "source": [
        "### Explanation\n",
        "\n",
        "#### Scraping Image URLs:\n",
        "The `scrape_images()` function collects all image URLs (`<img>` tags) from the webpage.\n",
        "\n",
        "---\n",
        "\n",
        "#### Handling Relative URLs:\n",
        "Many websites use relative paths (e.g., `/static/img/image.png`) for images. To make them usable, we prepend the base URL (like `https://www.python.org`) to create a complete URL.\n",
        "\n",
        "---\n",
        "\n",
        "#### Fetching and Displaying the Image:\n",
        "The `display_image()` function:\n",
        "- Fetches the image using `requests.get()`.\n",
        "- Uses `IPython.display.Image` to render the image inline.\n",
        "\n",
        "---\n",
        "\n",
        "#### Example Use:\n",
        "In the example, the script scrapes images from `https://www.python.org` and displays the first one."
      ],
      "metadata": {
        "id": "_nYFgq4-G4QA"
      }
    },
    {
      "cell_type": "code",
      "source": [
        "# 3. Scrape Images Extract all image URLs from a webpage.\n",
        "import requests\n",
        "from bs4 import BeautifulSoup\n",
        "from IPython.display import Image, display\n",
        "\n",
        "# Function to scrape image URLs\n",
        "def scrape_images(url):\n",
        "    response = requests.get(url)\n",
        "    soup = BeautifulSoup(response.text, 'html.parser')\n",
        "    images = [img['src'] for img in soup.find_all('img', src=True)]\n",
        "    return images\n",
        "\n",
        "# Function to fetch and display an image\n",
        "def display_image(image_url, base_url=None):\n",
        "    # Handle relative URLs\n",
        "    if base_url and not image_url.startswith(\"http\"):\n",
        "        image_url = f\"{base_url}{image_url}\"\n",
        "\n",
        "    # Fetch and display the image\n",
        "    response = requests.get(image_url, stream=True)\n",
        "    if response.status_code == 200:\n",
        "        display(Image(response.content))\n",
        "    else:\n",
        "        print(f\"Failed to load image: {image_url}\")\n",
        "\n",
        "# Example usage\n",
        "url = \"https://www.python.org\"\n",
        "image_urls = scrape_images(url)\n",
        "\n",
        "# Display the first image\n",
        "if image_urls:\n",
        "    print(\"Scraped Image URL:\", image_urls[0])\n",
        "    display_image(image_urls[0], base_url=\"https://www.python.org\")\n",
        "else:\n",
        "    print(\"No images found.\")"
      ],
      "metadata": {
        "colab": {
          "base_uri": "https://localhost:8080/",
          "height": 117
        },
        "id": "P0o-yp4YFjS_",
        "outputId": "e883448a-7aa9-4933-cf1e-1cd630a91b58"
      },
      "execution_count": 20,
      "outputs": [
        {
          "output_type": "stream",
          "name": "stdout",
          "text": [
            "Scraped Image URL: /static/img/python-logo.png\n"
          ]
        },
        {
          "output_type": "display_data",
          "data": {
            "image/png": "[encoded data removed]",
            "text/plain": [
              "<IPython.core.display.Image object>"
            ]
          },
          "metadata": {}
        }
      ]
    },
    {
      "cell_type": "code",
      "source": [
        "# 4. Scrape Tables Extract tabular data, useful for reports or structured datasets.\n",
        "def scrape_tables(url):\n",
        "    response = requests.get(url)\n",
        "    soup = BeautifulSoup(response.text, 'html.parser')\n",
        "    tables = soup.find_all('table')\n",
        "    table_data = []\n",
        "    for table in tables:\n",
        "        rows = table.find_all('tr')\n",
        "        for row in rows:\n",
        "            cols = [col.text.strip() for col in row.find_all(['td', 'th'])]\n",
        "            table_data.append(cols)\n",
        "    return table_data\n",
        "\n",
        "# Example usage\n",
        "print(scrape_tables(\"https://www.python.org\"))"
      ],
      "metadata": {
        "colab": {
          "base_uri": "https://localhost:8080/"
        },
        "id": "WXRwEfLzF7CP",
        "outputId": "4bb17ba1-8a57-4d91-9a54-57e7ad4596c2"
      },
      "execution_count": 16,
      "outputs": [
        {
          "output_type": "stream",
          "name": "stdout",
          "text": [
            "[['Deliver Clean and Safe Code for Your Python Applications by Kirti Joshi, Nicolas Bontoux']]\n"
          ]
        }
      ]
    },
    {
      "cell_type": "code",
      "source": [
        "# 5. Scrape Meta Tags Extract meta information such as descriptions, keywords, or author details.\n",
        "def scrape_meta(url):\n",
        "    response = requests.get(url)\n",
        "    soup = BeautifulSoup(response.text, 'html.parser')\n",
        "    meta_tags = {meta.attrs.get(\"name\", meta.attrs.get(\"property\")): meta.attrs.get(\"content\")\n",
        "                 for meta in soup.find_all(\"meta\") if meta.attrs.get(\"content\")}\n",
        "    return meta_tags\n",
        "\n",
        "# Example usage\n",
        "print(scrape_meta(\"https://www.python.org\"))"
      ],
      "metadata": {
        "colab": {
          "base_uri": "https://localhost:8080/"
        },
        "id": "_DbdDKQ-GDbR",
        "outputId": "c47c1c3f-d253-45f1-bb55-557a9ff58bc3"
      },
      "execution_count": 18,
      "outputs": [
        {
          "output_type": "stream",
          "name": "stdout",
          "text": [
            "{None: 'false', 'application-name': 'Python.org', 'msapplication-tooltip': 'The official home of the Python Programming Language', 'apple-mobile-web-app-title': 'Python.org', 'apple-mobile-web-app-capable': 'yes', 'apple-mobile-web-app-status-bar-style': 'black', 'viewport': 'width=device-width, initial-scale=1.0', 'HandheldFriendly': 'True', 'format-detection': 'telephone=no', 'msapplication-TileImage': '/static/metro-icon-144x144.png', 'msapplication-TileColor': '#3673a5', 'msapplication-navbutton-color': '#3673a5', 'description': 'The official home of the Python Programming Language', 'keywords': 'Python programming language object oriented web free open source software license documentation download community', 'og:type': 'website', 'og:site_name': 'Python.org', 'og:title': 'Welcome to Python.org', 'og:description': 'The official home of the Python Programming Language', 'og:image': 'https://www.python.org/static/opengraph-icon-200x200.png', 'og:image:secure_url': 'https://www.python.org/static/opengraph-icon-200x200.png', 'og:url': 'https://www.python.org/'}\n"
          ]
        }
      ]
    },
    {
      "cell_type": "code",
      "source": [
        "# 6. Scrape Specific Text (e.g., News Articles) Extract specific sections of text from a webpage.\n",
        "def scrape_text(url, css_selector):\n",
        "    response = requests.get(url)\n",
        "    soup = BeautifulSoup(response.text, 'html.parser')\n",
        "    text = [element.text for element in soup.select(css_selector)]\n",
        "    return text\n",
        "\n",
        "# Example usage: Extract paragraphs\n",
        "print(scrape_text(\"https://www.python.org\", \"p\"))"
      ],
      "metadata": {
        "colab": {
          "base_uri": "https://localhost:8080/"
        },
        "id": "UX8cJcg9GKj0",
        "outputId": "8576b9dc-a749-42bd-cb8d-3e0a7c870431"
      },
      "execution_count": 17,
      "outputs": [
        {
          "output_type": "stream",
          "name": "stdout",
          "text": [
            "['Notice: While JavaScript is not essential for this website, your interaction with the content will be limited. Please turn JavaScript on for the full experience. ', 'The core of extensible programming is defining functions. Python allows mandatory and optional arguments, keyword arguments, and even arbitrary argument lists. More about defining functions in Python\\xa03', 'Lists (known as arrays in other languages) are one of the compound data types that Python understands. Lists can be indexed, sliced and manipulated with other built-in functions. More about lists in Python\\xa03', 'Calculations are simple with Python, and expression syntax is straightforward: the operators +, -, * and / work as expected; parentheses () can be used for grouping. More about simple math functions in Python\\xa03.', 'Python knows the usual control flow statements that other languages speak — if, for, while and range — with some of its own twists, of course. More control flow tools in Python\\xa03', 'Experienced programmers in any other language can pick up Python very quickly, and beginners find the clean syntax and indentation structure easy to learn. Whet your appetite with our Python\\xa03 overview.', 'Python is a programming language that lets you work quickly and integrate systems more effectively. Learn More', \"Whether you're new to programming or an experienced developer, it's easy to learn and use Python.\", 'Start with our Beginner’s Guide', 'Python source code and installers are available for download for all versions!', 'Latest: Python 3.13.0', \"Documentation for Python's standard library, along with tutorials and guides, are available online.\", 'docs.python.org', \"Looking for work or have a Python related position that you're trying to hire for? Our relaunched community-run job board is the place to go.\", 'jobs.python.org', 'More', 'More', 'More', 'Deliver Clean and Safe Code for Your Python Applications by Kirti Joshi, Nicolas Bontoux', 'More', 'The mission of the Python Software Foundation is to promote, protect, and advance the Python programming language, and to support and facilitate the growth of a diverse and international community of Python programmers. Learn more ', '\\nBecome a Member\\nDonate to the PSF\\n', '\\nCopyright ©2001-2024.\\n                            \\xa0Python Software Foundation\\n                            \\xa0Legal Statements\\n                            \\xa0Privacy Notice\\n\\n']\n"
          ]
        }
      ]
    },
    {
      "cell_type": "markdown",
      "source": [
        "# Tidy Up the Code for this scraping project\n",
        "\n",
        "**Here's how you can make the project modular and reusable:**\n",
        "\n",
        "Create a scraper.py File: Organise all scraping functions into a single script for easy use.\n",
        "\n",
        "Add Error Handling: Ensure the scraper handles bad URLs or missing elements gracefully."
      ],
      "metadata": {
        "id": "uINBM0NyGZVk"
      }
    },
    {
      "cell_type": "code",
      "source": [
        "def fetch_content(url, parser='html.parser'):\n",
        "    try:\n",
        "        response = requests.get(url, timeout=10)\n",
        "        response.raise_for_status()\n",
        "        return BeautifulSoup(response.text, parser)\n",
        "    except requests.exceptions.RequestException as e:\n",
        "        print(f\"Error fetching {url}: {e}\")\n",
        "        return None\n",
        "\n",
        "# Combine Functions: Allow users to choose what to scrape dynamically.\n",
        "def scrape_website(url, scrape_type):\n",
        "    soup = fetch_content(url)\n",
        "    if not soup:\n",
        "        return \"Error loading content\"\n",
        "\n",
        "    if scrape_type == \"title\":\n",
        "        return soup.title.string if soup.title else \"No Title Found\"\n",
        "    elif scrape_type == \"headings\":\n",
        "        return {f\"h{i}\": [tag.text for tag in soup.find_all(f\"h{i}\")] for i in range(1, 7)}\n",
        "    elif scrape_type == \"links\":\n",
        "        return [a['href'] for a in soup.find_all('a', href=True)]\n",
        "    elif scrape_type == \"images\":\n",
        "        return [img['src'] for img in soup.find_all('img', src=True)]\n",
        "    elif scrape_type == \"meta\":\n",
        "        return {meta.attrs.get(\"name\", meta.attrs.get(\"property\")): meta.attrs.get(\"content\")\n",
        "                for meta in soup.find_all(\"meta\") if meta.attrs.get(\"content\")}\n",
        "    else:\n",
        "        return \"Unknown scrape type\"\n",
        "\n",
        "# Example Usage:\n",
        "url = \"https://www.python.org\"\n",
        "print(scrape_website(url, \"title\"))\n",
        "print(scrape_website(url, \"headings\"))\n",
        "print(scrape_website(url, \"links\"))"
      ],
      "metadata": {
        "colab": {
          "base_uri": "https://localhost:8080/"
        },
        "id": "_yWTLhzrGYoA",
        "outputId": "6745dbdb-a93d-4c7c-c282-d781c4b6e3ed"
      },
      "execution_count": 19,
      "outputs": [
        {
          "output_type": "stream",
          "name": "stdout",
          "text": [
            "Welcome to Python.org\n",
            "{'h1': ['\\n\\n', 'Functions Defined', 'Compound Data Types', 'Intuitive Interpretation', 'All the Flow You’d Expect', 'Quick & Easy to Learn'], 'h2': ['Get Started', 'Download', 'Docs', 'Jobs', 'Latest News', 'Upcoming Events', 'Success Stories', 'Use Python for…', '\\n>>> Python Software Foundation\\n'], 'h3': [], 'h4': [], 'h5': [], 'h6': []}\n",
            "['#content', '#python-network', '/', 'https://www.python.org/psf/', 'https://docs.python.org', 'https://pypi.org/', '/jobs/', '/community/', '#top', '/', 'https://psfmember.org/civicrm/contribute/transact?reset=1&id=2', '#site-map', '#', 'javascript:;', 'javascript:;', 'javascript:;', '#', 'https://www.linkedin.com/company/python-software-foundation/', 'https://fosstodon.org/@ThePSF', '/community/irc/', 'https://twitter.com/ThePSF', '/about/', '/about/apps/', '/about/quotes/', '/about/gettingstarted/', '/about/help/', 'http://brochure.getpython.info/', '/downloads/', '/downloads/', '/downloads/source/', '/downloads/windows/', '/downloads/macos/', '/download/other/', 'https://docs.python.org/3/license.html', '/download/alternatives', '/doc/', '/doc/', '/doc/av', 'https://wiki.python.org/moin/BeginnersGuide', 'https://devguide.python.org/', 'https://docs.python.org/faq/', 'http://wiki.python.org/moin/Languages', 'https://peps.python.org', 'https://wiki.python.org/moin/PythonBooks', '/doc/essays/', '/community/', '/community/diversity/', '/community/lists/', '/community/irc/', '/community/forums/', '/psf/annual-report/2021/', '/community/workshops/', '/community/sigs/', '/community/logos/', 'https://wiki.python.org/moin/', '/psf/conduct/', '/community/awards', '/psf/get-involved/', '/psf/community-stories/', '/success-stories/', '/success-stories/category/arts/', '/success-stories/category/business/', '/success-stories/category/education/', '/success-stories/category/engineering/', '/success-stories/category/government/', '/success-stories/category/scientific/', '/success-stories/category/software-development/', '/blogs/', '/blogs/', '/psf/newsletter/', 'http://pyfound.blogspot.com/', 'http://pycon.blogspot.com/', 'http://planetpython.org/', '/events/', '/events/python-events/', '/events/python-user-group/', '/events/python-events/past/', '/events/python-user-group/past/', 'https://wiki.python.org/moin/PythonEventsCalendar#Submitting_an_Event', '/shell/', '//docs.python.org/3/tutorial/controlflow.html#defining-functions', '//docs.python.org/3/tutorial/introduction.html#lists', 'http://docs.python.org/3/tutorial/introduction.html#using-python-as-a-calculator', '//docs.python.org/3/tutorial/controlflow.html', '//docs.python.org/3/tutorial/', '/doc/', 'https://survey.alchemer.com/s3/8009809/python-developers-survey-2024', '/about/gettingstarted/', '/downloads/release/python-3130/', 'https://docs.python.org', '//jobs.python.org', 'https://blog.python.org', 'https://pyfound.blogspot.com/2024/11/psf-grants-program-updates-part2.html', 'https://pyfound.blogspot.com/2024/11/psf-grants-program-updates-part1.html', 'https://pyfound.blogspot.com/2024/11/pycon-us-2025-kicks-off-website-cfp-and.html', 'https://pyfound.blogspot.com/2024/10/announcing-python-software-foundation.html', 'https://pythoninsider.blogspot.com/2024/10/python-3140-alpha-1-is-now-available.html', '/events/calendars/', '/events/python-events/1771/', '/events/python-events/1861/', '/events/python-events/1862/', '/events/python-user-group/1867/', '/events/python-user-group/1870/', '/success-stories/', '/success-stories/deliver-clean-and-safe-code-for-your-python-applications/', '/success-stories/deliver-clean-and-safe-code-for-your-python-applications/', '/about/apps', 'http://www.djangoproject.com/', 'http://www.pylonsproject.org/', 'http://bottlepy.org', 'http://tornadoweb.org', 'http://flask.pocoo.org/', 'http://www.web2py.com/', 'http://wiki.python.org/moin/TkInter', 'https://wiki.gnome.org/Projects/PyGObject', 'http://www.riverbankcomputing.co.uk/software/pyqt/intro', 'https://wiki.qt.io/PySide', 'https://kivy.org/', 'http://www.wxpython.org/', 'https://dearpygui.readthedocs.io/en/latest/', 'http://www.scipy.org', 'http://pandas.pydata.org/', 'http://ipython.org', 'http://buildbot.net/', 'http://trac.edgewall.org/', 'http://roundup.sourceforge.net/', 'http://www.ansible.com', 'https://saltproject.io', 'https://www.openstack.org', 'https://xon.sh', '/psf/', '/psf/', '/users/membership/', '/psf/donations/', '#python-network', '/about/', '/about/apps/', '/about/quotes/', '/about/gettingstarted/', '/about/help/', 'http://brochure.getpython.info/', '/downloads/', '/downloads/', '/downloads/source/', '/downloads/windows/', '/downloads/macos/', '/download/other/', 'https://docs.python.org/3/license.html', '/download/alternatives', '/doc/', '/doc/', '/doc/av', 'https://wiki.python.org/moin/BeginnersGuide', 'https://devguide.python.org/', 'https://docs.python.org/faq/', 'http://wiki.python.org/moin/Languages', 'https://peps.python.org', 'https://wiki.python.org/moin/PythonBooks', '/doc/essays/', '/community/', '/community/diversity/', '/community/lists/', '/community/irc/', '/community/forums/', '/psf/annual-report/2021/', '/community/workshops/', '/community/sigs/', '/community/logos/', 'https://wiki.python.org/moin/', '/psf/conduct/', '/community/awards', '/psf/get-involved/', '/psf/community-stories/', '/success-stories/', '/success-stories/category/arts/', '/success-stories/category/business/', '/success-stories/category/education/', '/success-stories/category/engineering/', '/success-stories/category/government/', '/success-stories/category/scientific/', '/success-stories/category/software-development/', '/blogs/', '/blogs/', '/psf/newsletter/', 'http://pyfound.blogspot.com/', 'http://pycon.blogspot.com/', 'http://planetpython.org/', '/events/', '/events/python-events/', '/events/python-user-group/', '/events/python-events/past/', '/events/python-user-group/past/', 'https://wiki.python.org/moin/PythonEventsCalendar#Submitting_an_Event', '/dev/', 'https://devguide.python.org/', 'https://github.com/python/cpython/issues', 'https://mail.python.org/mailman/listinfo/python-dev', '/dev/core-mentorship/', '/dev/security/', '#python-network', '/about/help/', '/community/diversity/', 'https://github.com/python/pythondotorg/issues', 'https://status.python.org/', '/psf-landing/', '/about/legal/', 'https://policies.python.org/python.org/Privacy-Notice/']\n"
          ]
        }
      ]
    },
    {
      "cell_type": "markdown",
      "source": [
        "# 4. File Organisation"
      ],
      "metadata": {
        "id": "3bYrvzBm76f3"
      }
    },
    {
      "cell_type": "code",
      "source": [
        "import os\n",
        "from shutil import move\n",
        "\n",
        "# File organisation function\n",
        "def organise_files_by_type():\n",
        "    if not os.path.exists(\"Organised_Files\"):\n",
        "        os.mkdir(\"Organised_Files\")\n",
        "\n",
        "    for file in os.listdir():\n",
        "        if file.endswith('.txt'):\n",
        "            if not os.path.exists(\"Organised_Files/Text_Files\"):\n",
        "                os.mkdir(\"Organised_Files/Text_Files\")\n",
        "            move(file, \"Organised_Files/Text_Files/\")\n",
        "        elif file.endswith('.csv'):\n",
        "            if not os.path.exists(\"Organised_Files/CSV_Files\"):\n",
        "                os.mkdir(\"Organised_Files/CSV_Files\")\n",
        "            move(file, \"Organised_Files/CSV_Files/\")\n",
        "        # Add more conditions for other file types\n",
        "\n",
        "organise_files_by_type()"
      ],
      "metadata": {
        "id": "fxNrZ8aC79Lx"
      },
      "execution_count": 7,
      "outputs": []
    },
    {
      "cell_type": "markdown",
      "source": [
        "# 5. To-Do List Automation"
      ],
      "metadata": {
        "id": "9lunPXRD7_8O"
      }
    },
    {
      "cell_type": "code",
      "source": [
        "tasks = []\n",
        "\n",
        "# To-Do list functions\n",
        "def add_task(task):\n",
        "    tasks.append({'task': task, 'completed': False})\n",
        "\n",
        "def complete_task(index):\n",
        "    if 0 <= index < len(tasks):\n",
        "        tasks[index]['completed'] = True\n",
        "\n",
        "def view_tasks():\n",
        "    for i, task in enumerate(tasks):\n",
        "        status = 'Done' if task['completed'] else 'Pending'\n",
        "        print(f\"{i + 1}. {task['task']} - {status}\")\n",
        "\n",
        "# Example usage\n",
        "add_task(\"Write Python script\")\n",
        "add_task(\"Test automation features\")\n",
        "view_tasks()\n",
        "complete_task(0)\n",
        "view_tasks()"
      ],
      "metadata": {
        "colab": {
          "base_uri": "https://localhost:8080/"
        },
        "id": "0wzvzRTc8CgN",
        "outputId": "096fe663-3114-46e1-864c-55dc1440adf0"
      },
      "execution_count": 8,
      "outputs": [
        {
          "output_type": "stream",
          "name": "stdout",
          "text": [
            "1. Write Python script - Pending\n",
            "2. Test automation features - Pending\n",
            "1. Write Python script - Done\n",
            "2. Test automation features - Pending\n"
          ]
        }
      ]
    },
    {
      "cell_type": "markdown",
      "source": [
        "# 6. Automated Plot Creation"
      ],
      "metadata": {
        "id": "SiajUcvH8EMz"
      }
    },
    {
      "cell_type": "code",
      "source": [
        "import matplotlib.pyplot as plt\n",
        "import pandas as pd\n",
        "import numpy as np\n",
        "\n",
        "# Example data\n",
        "data = {\n",
        "    'Feature1': np.random.normal(50, 10, 100),\n",
        "    'Feature2': np.random.uniform(10, 100, 100),\n",
        "    'Feature3': np.random.exponential(20, 100)\n",
        "}\n",
        "df = pd.DataFrame(data)\n",
        "\n",
        "# Automated visualisation function\n",
        "def automate_visualisations(data):\n",
        "    # Histogram\n",
        "    plt.hist(data['Feature1'], bins=10, color='skyblue', edgecolor='black')\n",
        "    plt.title('Feature1 Distribution')\n",
        "    plt.show()\n",
        "\n",
        "    # Scatter plot\n",
        "    plt.scatter(data['Feature1'], data['Feature2'], alpha=0.7, color='green')\n",
        "    plt.title('Feature1 vs Feature2')\n",
        "    plt.show()\n",
        "\n",
        "automate_visualisations(df)"
      ],
      "metadata": {
        "colab": {
          "base_uri": "https://localhost:8080/",
          "height": 887
        },
        "id": "5sHjyTX-8Gcn",
        "outputId": "8cc1ce90-e1c6-4e90-ec6f-6cb55fb88953"
      },
      "execution_count": 9,
      "outputs": [
        {
          "output_type": "display_data",
          "data": {
            "text/plain": [
              "<Figure size 640x480 with 1 Axes>"
            ],
            "image/png": "[encoded data removed]"
          },
          "metadata": {}
        },
        {
          "output_type": "display_data",
          "data": {
            "text/plain": [
              "<Figure size 640x480 with 1 Axes>"
            ],
            "image/png": "[encoded data removed]"
          },
          "metadata": {}
        }
      ]
    }
  ]
}